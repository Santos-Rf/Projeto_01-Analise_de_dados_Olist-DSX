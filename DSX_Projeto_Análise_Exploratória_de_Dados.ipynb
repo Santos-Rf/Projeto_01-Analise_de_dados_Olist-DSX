{
  "cells": [
    {
      "cell_type": "markdown",
      "metadata": {
        "id": "view-in-github",
        "colab_type": "text"
      },
      "source": [
        "<a href=\"https://colab.research.google.com/github/Santos-Rf/Projeto_01-Analise_de_dados_Olist-DSX/blob/main/DSX_Projeto_An%C3%A1lise_Explorat%C3%B3ria_de_Dados.ipynb\" target=\"_parent\"><img src=\"https://colab.research.google.com/assets/colab-badge.svg\" alt=\"Open In Colab\"/></a>"
      ]
    },
    {
      "cell_type": "markdown",
      "metadata": {
        "id": "8264201c"
      },
      "source": [
        "<h1 style=\"color: #6c5b7b\">Projeto 01 - Análise Exploratória de Dados</h1>\n",
        "\n",
        "<p>Bem-vindos ao <strong>Data Science Experience</strong>! Nesse 1o projeto, vamos mostrar como realizar uma <strong>análise exploratória de dados</strong> da base de dados de e-commerce de uma grande empresa brasileira, a <strong>Olist</strong>.</p>\n",
        "\n",
        "<p>A <strong>análise exploratória de dados</strong> é uma das principais técnicas utilizadas em <strong>Data Science</strong>, pois nos permite compreender melhor os dados e encontrar <em>insights</em> valiosos que podem ser usados em decisões de negócios. Neste notebook, vamos explorar a base de dados da Olist e responder algumas perguntas importantes sobre o comportamento dos consumidores no mercado de e-commerce.</p>\n",
        "\n",
        "<p>Para isso, usaremos a linguagem <strong>Python</strong> e as bibliotecas <strong>Pandas</strong>, <strong>Numpy</strong> e <strong>Matplotlib</strong> para manipulação e visualização de dados. Além disso, utilizaremos a biblioteca <strong>Plotly</strong> para criar gráficos interativos e mais complexos, permitindo uma análise mais detalhada dos dados.</p>\n",
        "\n",
        "<p>Ao final deste projeto, estaremos mais familiarizados com as técnicas utilizadas em análise exploratória de dados e teremos uma visão mais clara sobre como aplicá-las em projetos futuros.</p>"
      ],
      "id": "8264201c"
    },
    {
      "cell_type": "code",
      "execution_count": null,
      "metadata": {
        "id": "a69ed592"
      },
      "outputs": [],
      "source": [
        "import pandas as pd\n",
        "import numpy as np\n",
        "import matplotlib.pyplot as plt\n",
        "import plotly.graph_objects as go\n",
        "import plotly.express as px\n",
        "import datetime\n",
        "import warnings\n",
        "warnings.filterwarnings(\"ignore\")"
      ],
      "id": "a69ed592"
    },
    {
      "cell_type": "code",
      "execution_count": null,
      "metadata": {
        "colab": {
          "background_save": true
        },
        "id": "7062d47b"
      },
      "outputs": [],
      "source": [
        "customers_df = pd.read_csv(\"./data/raw/olist_customers_dataset.csv\")\n",
        "geo_df = pd.read_csv(\"./data/raw/olist_geolocation_dataset.csv\")\n",
        "orderitem_df = pd.read_csv(\"./data/raw/olist_order_items_dataset.csv\")\n",
        "orderpay_df = pd.read_csv(\"./data/raw/olist_order_payments_dataset.csv\")\n",
        "orderreviews_df = pd.read_csv(\"./data/raw/olist_order_reviews_dataset.csv\")\n",
        "orders_df = pd.read_csv(\"./data/raw/olist_orders_dataset.csv\")\n",
        "products_df = pd.read_csv(\"./data/raw/olist_products_dataset.csv\")\n",
        "sellers_df = pd.read_csv(\"./data/raw/olist_sellers_dataset.csv\")\n",
        "categname_df = pd.read_csv(\"./data/raw/product_category_name_translation.csv\")\n",
        "pd.set_option('display.max_columns', 500)"
      ],
      "id": "7062d47b"
    },
    {
      "cell_type": "code",
      "execution_count": null,
      "metadata": {
        "id": "d5ece2ed"
      },
      "outputs": [],
      "source": [
        "# Vendo as 10 linhas do arquivo de clientes\n",
        "customers_df.head(10)"
      ],
      "id": "d5ece2ed"
    },
    {
      "cell_type": "code",
      "execution_count": null,
      "metadata": {
        "id": "73907a35"
      },
      "outputs": [],
      "source": [
        "# Quantas linhas e colunas tem o dataframe de clientes\n",
        "customers_df.shape"
      ],
      "id": "73907a35"
    },
    {
      "cell_type": "code",
      "execution_count": null,
      "metadata": {
        "id": "eb41292f"
      },
      "outputs": [],
      "source": [
        "print(\"customers_df:\")\n",
        "display(customers_df.head())\n",
        "\n",
        "print(\"\\ngeo_df:\")\n",
        "display(geo_df.head())\n",
        "\n",
        "print(\"\\norderitem_df:\")\n",
        "display(orderitem_df.head())\n",
        "\n",
        "print(\"\\norderpay_df:\")\n",
        "display(orderpay_df.head())\n",
        "\n",
        "print(\"\\norderreviews_df:\")\n",
        "display(orderreviews_df.head())\n",
        "\n",
        "print(\"\\norders_df:\")\n",
        "display(orders_df.head())\n",
        "\n",
        "print(\"\\nproducts_df:\")\n",
        "display(products_df.head())\n",
        "\n",
        "print(\"\\nsellers_df:\")\n",
        "display(sellers_df.head())\n",
        "\n",
        "print(\"\\ncategname_df:\")\n",
        "display(categname_df.head())"
      ],
      "id": "eb41292f"
    },
    {
      "cell_type": "code",
      "execution_count": null,
      "metadata": {
        "id": "a0e24b68"
      },
      "outputs": [],
      "source": [
        "print(\"customers_df:\\n\")\n",
        "display(customers_df.info())\n",
        "\n",
        "print(\"\\ngeo_df:\\n\")\n",
        "display(geo_df.info())\n",
        "\n",
        "print(\"\\norderitem_df:\\n\")\n",
        "display(orderitem_df.info())\n",
        "\n",
        "print(\"\\norderpay_df:\\n\")\n",
        "display(orderpay_df.info())\n",
        "\n",
        "print(\"\\norderreviews_df:\\n\")\n",
        "display(orderreviews_df.info())\n",
        "\n",
        "print(\"\\norders_df:\\n\")\n",
        "display(orders_df.info())\n",
        "\n",
        "print(\"\\nproducts_df:\\n\")\n",
        "display(products_df.info())\n",
        "\n",
        "print(\"\\nsellers_df:\\n\")\n",
        "display(sellers_df.info())\n",
        "\n",
        "print(\"\\ncategname_df:\\n\")\n",
        "display(categname_df.info())"
      ],
      "id": "a0e24b68"
    },
    {
      "cell_type": "code",
      "execution_count": null,
      "metadata": {
        "id": "d7ec55c0"
      },
      "outputs": [],
      "source": [
        "customers_df = customers_df.rename(columns={\"customer_zip_code_prefix\": \"zip_code\"})\n",
        "geo_df = geo_df.rename(columns={\"geolocation_zip_code_prefix\": \"zip_code\"})"
      ],
      "id": "d7ec55c0"
    },
    {
      "cell_type": "code",
      "execution_count": null,
      "metadata": {
        "id": "cc471feb"
      },
      "outputs": [],
      "source": [
        "customers_df.head()"
      ],
      "id": "cc471feb"
    },
    {
      "cell_type": "code",
      "execution_count": null,
      "metadata": {
        "id": "a4826d8e"
      },
      "outputs": [],
      "source": [
        "data = orders_df.merge(customers_df, on=\"customer_id\").merge(orderitem_df, on=\"order_id\").merge(products_df, on=\"product_id\").merge(categname_df, on=\"product_category_name\").merge(orderpay_df, on=\"order_id\").merge(sellers_df, on=\"seller_id\").merge(orderreviews_df, on=\"order_id\")"
      ],
      "id": "a4826d8e"
    },
    {
      "cell_type": "code",
      "execution_count": null,
      "metadata": {
        "id": "c0597e51",
        "scrolled": true
      },
      "outputs": [],
      "source": [
        "data.head()"
      ],
      "id": "c0597e51"
    },
    {
      "cell_type": "markdown",
      "metadata": {
        "id": "b1f4ff7a"
      },
      "source": [
        "Temos ids de pedidos duplicados. Isso se deve ao fato de que o mesmo pedido pode ser pago com vários métodos de pagamento diferentes."
      ],
      "id": "b1f4ff7a"
    },
    {
      "cell_type": "code",
      "execution_count": null,
      "metadata": {
        "id": "44cbc5c2"
      },
      "outputs": [],
      "source": [
        "# Porcentagem de valores nulos\n",
        "(100 * data.isna().sum() / len(data) ).sort_values(ascending=False)"
      ],
      "id": "44cbc5c2"
    },
    {
      "cell_type": "code",
      "execution_count": null,
      "metadata": {
        "id": "47394578"
      },
      "outputs": [],
      "source": [
        "# Estatística descritiva básica\n",
        "data.describe()"
      ],
      "id": "47394578"
    },
    {
      "cell_type": "markdown",
      "metadata": {
        "id": "ab1b4091"
      },
      "source": [
        "<h2 style=\"color: #6c5b7b\">Como estão distribuídas as avaliações (notas)?</h2>\n",
        "\n"
      ],
      "id": "ab1b4091"
    },
    {
      "cell_type": "code",
      "execution_count": null,
      "metadata": {
        "id": "e92e9379"
      },
      "outputs": [],
      "source": [
        "fig = px.histogram(data, x=\"review_score\")\n",
        "fig.show()"
      ],
      "id": "e92e9379"
    },
    {
      "cell_type": "code",
      "execution_count": null,
      "metadata": {
        "id": "ee7e0c32"
      },
      "outputs": [],
      "source": [
        "percentage = data[\"review_score\"].value_counts(normalize=True) * 100\n",
        "\n",
        "fig = px.bar(percentage, x=percentage.index, y=percentage.values, text=percentage.values, labels={\"x\": \"Nota\", \"y\": \"Percentagem\"})\n",
        "fig.update_traces(texttemplate='%{text:.2f}%', textposition='outside')\n",
        "fig.show()\n"
      ],
      "id": "ee7e0c32"
    },
    {
      "cell_type": "markdown",
      "metadata": {
        "id": "1a451ae1"
      },
      "source": [
        "Mais de 75% dos clientes deram uma pontuação igual ou maior que 4. 12,5% deram uma pontuação de 1 e cerca de 12% deram uma pontuação de 3 ou 2."
      ],
      "id": "1a451ae1"
    },
    {
      "cell_type": "markdown",
      "metadata": {
        "id": "4c976aa6"
      },
      "source": [
        "<h2 style=\"color: #6c5b7b\">Proporção de clientes gerando a maior parte da receita.</h2>\n",
        "\n",
        "\n",
        "<p>A <strong>Análise de Pareto</strong> é uma técnica importante para identificar e priorizar os elementos mais relevantes em um conjunto de dados, permitindo a concentração de esforços nas áreas mais críticas e relevantes, maximizando resultados e minimizando custos. É uma ferramenta simples e de fácil aplicação.</p>\n",
        "\n",
        "<p>É a famosa regra 20/80, 20% que representam 80% do resultado</p>\n",
        "\n",
        "<p>Podemos utilizar para várias análises! Vamos começar com a proporção de clientes que mais gastam.</p>\n"
      ],
      "id": "4c976aa6"
    },
    {
      "cell_type": "code",
      "execution_count": null,
      "metadata": {
        "id": "6f52e190"
      },
      "outputs": [],
      "source": [
        "# Clientes com o maior número cumulativo de pedidos (em pagamentos).\n",
        "top_customers = data.groupby(\"customer_unique_id\")[\"payment_value\"].sum().reset_index().sort_values(\"payment_value\", ascending=False)\n",
        "top_customers.rename(columns={\"payment_value\":\"total_paid\"}, inplace=True)"
      ],
      "id": "6f52e190"
    },
    {
      "cell_type": "code",
      "execution_count": null,
      "metadata": {
        "id": "cef62cf5"
      },
      "outputs": [],
      "source": [
        "# calcular as colunas \"% of Total Sales\" e \"Cum % of Total Sales\"\n",
        "top_customers[\"% of Total Sales\"] = (top_customers[\"total_paid\"] / top_customers[\"total_paid\"].sum()) * 100\n",
        "top_customers[\"Cum % of Total Sales\"] = top_customers[\"% of Total Sales\"].cumsum()"
      ],
      "id": "cef62cf5"
    },
    {
      "cell_type": "code",
      "execution_count": null,
      "metadata": {
        "id": "acc0b7e9"
      },
      "outputs": [],
      "source": [
        "# criar um gráfico de linhas do Plotly\n",
        "fig = px.line(top_customers, x=range(1, len(top_customers) + 1), y=\"Cum % of Total Sales\")\n",
        "\n",
        "# definir as etiquetas do eixo x e y e o título do gráfico\n",
        "fig.update_layout(\n",
        "    xaxis_title=\"Número de Clientes\",\n",
        "    yaxis_title=\"Total Vendas Cumulativo %\",\n",
        "    title=\"Contribuição % para as vendas por número de clientes\"\n",
        ")\n",
        "\n",
        "# adicionar uma linha de preenchimento abaixo do gráfico\n",
        "fig.add_shape(\n",
        "    type=\"rect\",\n",
        "    xref=\"x\",\n",
        "    yref=\"paper\",\n",
        "    x0=0,\n",
        "    y0=0,\n",
        "    x1=40000,\n",
        "    y1=1,\n",
        "    fillcolor=\"green\",\n",
        "    opacity=0.2,\n",
        "    layer=\"below\"\n",
        ")\n",
        "\n",
        "# atualizar o layout da forma para ajustar a altura do preenchimento\n",
        "fig.update_shapes(dict(xref='x', yref='paper'))\n",
        "\n",
        "# adicionar um texto explicativo na figura\n",
        "fig.add_annotation(\n",
        "    x=55000,\n",
        "    y=75,\n",
        "    text=\"40k clientes (+-42% do total)<br> representam +-80% das vendas\",\n",
        "    font=dict(\n",
        "        size=14,\n",
        "        color=\"black\"\n",
        "    ),\n",
        "    showarrow=False,\n",
        ")\n",
        "\n",
        "# exibir a figura\n",
        "fig.show()"
      ],
      "id": "acc0b7e9"
    },
    {
      "cell_type": "markdown",
      "metadata": {
        "id": "418b3613"
      },
      "source": [
        "<h2 style=\"color: #6c5b7b\">Quem são os clientes que mais gastam?</h2>\n",
        "\n",
        "\n",
        "Os resultados dessa análise podem gerar diversos insights para a área de marketing! Por exemplo:\n",
        "- Monitorar os clientes que mais gastam-\n",
        "- Oferecer promoções\n",
        "- Tentar vender mais produtos\n",
        "- Realizar entregas personalizadas\n",
        "\n",
        "\n"
      ],
      "id": "418b3613"
    },
    {
      "cell_type": "code",
      "execution_count": null,
      "metadata": {
        "id": "234cc71d"
      },
      "outputs": [],
      "source": [
        "# renomear a coluna \"payment_value\" para \"total_paid\"\n",
        "top_customers.rename(columns={\"payment_value\" : \"total_paid\"}, inplace=True)\n",
        "\n",
        "# criar um gráfico de barras do Plotly\n",
        "fig = px.bar(top_customers[:10], x=\"total_paid\", y=\"customer_unique_id\", orientation=\"h\")\n",
        "\n",
        "# atualizar as configurações de layout do gráfico\n",
        "fig.update_layout(\n",
        "    title=\"Top 10 Clientes por Valor Total Pago\",\n",
        "    xaxis_title=\"Valor Total Pago\",\n",
        "    yaxis_title=\"ID do Cliente Único\"\n",
        ")\n",
        "\n",
        "# exibir o gráfico\n",
        "fig.show()\n"
      ],
      "id": "234cc71d"
    },
    {
      "cell_type": "markdown",
      "metadata": {
        "id": "ad704bd4"
      },
      "source": [
        "<h2 style=\"color: #6c5b7b\">Principais cidades por número de pedidos por estado.</h2>\n",
        "\n",
        "\n",
        "<p>Vamos verificar quais são as cidades que mais tem números de pedido!</p>\n",
        "\n"
      ],
      "id": "ad704bd4"
    },
    {
      "cell_type": "code",
      "execution_count": null,
      "metadata": {
        "id": "2c4c2a08"
      },
      "outputs": [],
      "source": [
        "# agrupar o dataframe por \"customer_state\" e contar o número de \"order_id\" por estado\n",
        "top_orders_cities = data.groupby(\"customer_state\")[\"order_id\"].count().reset_index().sort_values(\"order_id\", ascending=False)\n",
        "\n",
        "# renomear a coluna \"order_id\" para \"count\"\n",
        "top_orders_cities.rename(columns={\"order_id\":\"count\"}, inplace=True)\n",
        "\n",
        "# criar um gráfico de barras do Plotly\n",
        "fig = px.bar(top_orders_cities[:10], x=\"count\", y=\"customer_state\", orientation=\"h\")\n",
        "\n",
        "# atualizar as configurações de layout do gráfico\n",
        "fig.update_layout(\n",
        "    title=\"TOP 10 Estados por Número de Pedidos\",\n",
        "    xaxis_title=\"Número de Pedidos\",\n",
        "    yaxis_title=\"Estado\"\n",
        ")\n",
        "\n",
        "# exibir o gráfico\n",
        "fig.show()\n"
      ],
      "id": "2c4c2a08"
    },
    {
      "cell_type": "markdown",
      "metadata": {
        "id": "79d198b4"
      },
      "source": [
        "<h2 style=\"color: #6c5b7b\">Cidades com maior geração de receita.</h2>\n",
        "\n",
        "\n",
        "<p>Agora podemos avaliar não a quantidade de pedidos mas o quanto de dinheiro cada cidade traz.</p>\n",
        "\n"
      ],
      "id": "79d198b4"
    },
    {
      "cell_type": "code",
      "execution_count": null,
      "metadata": {
        "id": "9e300bf3"
      },
      "outputs": [],
      "source": [
        "top_ordersbyvalue_cities = data.groupby(\"customer_city\")[\"payment_value\"].sum().reset_index().sort_values(\"payment_value\", ascending=False)\n",
        "top_ordersbyvalue_cities[\"% of Total Payments\"] = (top_ordersbyvalue_cities[\"payment_value\"] / top_ordersbyvalue_cities[\"payment_value\"].sum()) * 100\n",
        "top_ordersbyvalue_cities[\"Cum % of Total Payments\"] = top_ordersbyvalue_cities[\"% of Total Payments\"].cumsum()"
      ],
      "id": "9e300bf3"
    },
    {
      "cell_type": "code",
      "execution_count": null,
      "metadata": {
        "id": "0b7f9a40"
      },
      "outputs": [],
      "source": [
        "# criar um gráfico de barras do Plotly\n",
        "fig = px.bar(top_ordersbyvalue_cities[:10], x=\"% of Total Payments\", y=\"customer_city\", orientation=\"h\")\n",
        "\n",
        "# atualizar as configurações de layout do gráfico\n",
        "fig.update_layout(\n",
        "    title=\"TOP 10 Cidades por Geração de Receita\",\n",
        "    xaxis_title=\"Porcentagem do Total de Pagamentos\",\n",
        "    yaxis_title=\"Cidade do Cliente\"\n",
        ")\n",
        "\n",
        "# exibir o gráfico\n",
        "fig.show()\n"
      ],
      "id": "0b7f9a40"
    },
    {
      "cell_type": "code",
      "execution_count": null,
      "metadata": {
        "id": "63ce96b2"
      },
      "outputs": [],
      "source": [
        "# criar um gráfico de linha do Plotly\n",
        "fig = px.line(top_ordersbyvalue_cities, x=range(1, len(top_ordersbyvalue_cities)+1), y=\"Cum % of Total Payments\")\n",
        "\n",
        "# atualizar as configurações de layout do gráfico\n",
        "fig.update_layout(\n",
        "    title=\"% de Contribuição das Vendas por Número de Cidades\",\n",
        "    xaxis_title=\"Número de Cidades\",\n",
        "    yaxis_title=\"% de Contribuição para as Vendas\"\n",
        ")\n",
        "\n",
        "# preencher a área abaixo da curva\n",
        "fig.add_shape(\n",
        "    type=\"rect\",\n",
        "    xref=\"x\",\n",
        "    yref=\"y\",\n",
        "    x0=0,\n",
        "    y0=0,\n",
        "    x1=358,\n",
        "    y1=top_ordersbyvalue_cities[\"Cum % of Total Payments\"][357],\n",
        "    fillcolor=\"green\",\n",
        "    opacity=0.3,\n",
        "    layer=\"below\",\n",
        "    line_width=0\n",
        ")\n",
        "\n",
        "# adicionar um texto ao gráfico\n",
        "fig.add_annotation(\n",
        "    x=1000,\n",
        "    y=70,\n",
        "    text=\"358 cidades (+-8,7% do total) <br>contribuem para +-80% das vendas.\",\n",
        "    font=dict(\n",
        "        size=14,\n",
        "        color=\"black\"\n",
        "    ),\n",
        "    showarrow=False\n",
        ")\n",
        "\n",
        "# exibir o gráfico\n",
        "fig.show()\n"
      ],
      "id": "63ce96b2"
    },
    {
      "cell_type": "code",
      "execution_count": null,
      "metadata": {
        "id": "9485d883"
      },
      "outputs": [],
      "source": [
        "print(\"Número de cidades que contribuem com 80% das vendas totais:\",\n",
        "      len(top_ordersbyvalue_cities[top_ordersbyvalue_cities[\"Cum % of Total Payments\"] <= 80]),\n",
        "      \"ou em in %:\",\n",
        "      (len(top_ordersbyvalue_cities[top_ordersbyvalue_cities[\"Cum % of Total Payments\"] <= 80]) / len(top_ordersbyvalue_cities)) * 100)"
      ],
      "id": "9485d883"
    },
    {
      "cell_type": "markdown",
      "metadata": {
        "id": "7ff18152"
      },
      "source": [
        "<h2 style=\"color: #6c5b7b\">Como os pedidos variam ao longo do tempo?</h2>\n",
        "\n",
        "\n",
        "<p>Como os pedidos são feitos ao longo do dia? De manhã? De tarde? Na madruga? Às segundas, sábados? É importante saber se estamos vendendo mais ou menos, nos horários e dias das semana!</p>\n",
        "\n"
      ],
      "id": "7ff18152"
    },
    {
      "cell_type": "code",
      "execution_count": null,
      "metadata": {
        "id": "486306e3"
      },
      "outputs": [],
      "source": [
        "# Total de pedidos por hora e dia da semana\n",
        "# Mas antes precisamos converter as colunas de datas para datetime\n",
        "datesCols = [\"order_purchase_timestamp\", \"order_approved_at\", \"order_delivered_carrier_date\",\n",
        "            \"order_delivered_customer_date\", \"order_estimated_delivery_date\", \"shipping_limit_date\",\n",
        "            \"review_creation_date\", \"review_answer_timestamp\"]\n",
        "\n",
        "for col in datesCols:\n",
        "    data[col] = pd.to_datetime(data[col])"
      ],
      "id": "486306e3"
    },
    {
      "cell_type": "code",
      "execution_count": null,
      "metadata": {
        "id": "7b9d35ba"
      },
      "outputs": [],
      "source": [
        "# Orders by hour\n",
        "orders_df[\"order_purchase_timestamp\"] = pd.to_datetime(orders_df[\"order_purchase_timestamp\"])\n",
        "orderbyhour = orders_df.groupby(orders_df[\"order_purchase_timestamp\"].dt.hour)[\"order_id\"].count().reset_index().sort_values(by=\"order_purchase_timestamp\", ascending=False)\n",
        "orderbyhour.rename(columns={\"order_id\":\"Total Orders\", \"order_purchase_timestamp\": \"Hour of Day\"}, inplace=True)"
      ],
      "id": "7b9d35ba"
    },
    {
      "cell_type": "code",
      "execution_count": null,
      "metadata": {
        "id": "a6d4e700"
      },
      "outputs": [],
      "source": [
        "fig = px.bar(orderbyhour, x='Hour of Day', y='Total Orders', title='Número de pedidos por hora do dia')\n",
        "fig.update_xaxes(title='Hora do dia')\n",
        "fig.update_yaxes(title='Número total de pedidos')\n",
        "fig.show()\n"
      ],
      "id": "a6d4e700"
    },
    {
      "cell_type": "markdown",
      "metadata": {
        "id": "e459b155"
      },
      "source": [
        "Os pedidos começam a aumentar por volta das 6h da manhã e atingem o pico às 4 da tarde."
      ],
      "id": "e459b155"
    },
    {
      "cell_type": "code",
      "execution_count": null,
      "metadata": {
        "id": "64e71523"
      },
      "outputs": [],
      "source": [
        "# Orders by day of the week\n",
        "orderbydow = data.groupby(data[\"order_purchase_timestamp\"].dt.day_name())[\"order_id\"].count().reset_index()\n",
        "orderbydow.rename(columns={\"order_id\":\"Total Orders\", \"order_purchase_timestamp\": \"Weekday Name\"}, inplace=True)\n",
        "orderbydow = orderbydow.sort_values(by=\"Total Orders\", ascending=False)"
      ],
      "id": "64e71523"
    },
    {
      "cell_type": "code",
      "execution_count": null,
      "metadata": {
        "id": "e20e2315"
      },
      "outputs": [],
      "source": [
        "fig = px.bar(orderbydow, x='Weekday Name', y='Total Orders', title='Número de pedidos por dia da semana')\n",
        "fig.update_xaxes(title='Dia da semana')\n",
        "fig.update_yaxes(title='Número total de pedidos')\n",
        "fig.show()\n"
      ],
      "id": "e20e2315"
    },
    {
      "cell_type": "code",
      "execution_count": null,
      "metadata": {
        "id": "d75b5f46"
      },
      "outputs": [],
      "source": [
        "# Define a ordem dos dias da semana\n",
        "weekday_order = ['Monday', 'Tuesday', 'Wednesday', 'Thursday', 'Friday', 'Saturday', 'Sunday']\n",
        "\n",
        "# Converte a coluna \"Weekday Name\" em uma categoria ordenada\n",
        "weekday = pd.Categorical(orderbydow['Weekday Name'], categories=weekday_order, ordered=True)\n",
        "\n",
        "# Cria um novo dataframe ordenado pela coluna de categoria \"weekday\"\n",
        "orderbydow_ordered = orderbydow.assign(weekday=weekday).sort_values('weekday')\n",
        "\n",
        "# Cria um gráfico de barras com os dias da semana em ordem\n",
        "fig = px.bar(orderbydow_ordered, x='weekday', y='Total Orders', title='Número de pedidos por dia da semana')\n",
        "fig.update_xaxes(title='Dia da semana')\n",
        "fig.update_yaxes(title='Número total de pedidos')\n",
        "fig.show()\n"
      ],
      "id": "d75b5f46"
    },
    {
      "cell_type": "markdown",
      "metadata": {
        "id": "cce37552"
      },
      "source": [
        "Os pedidos atingem o pico no início da semana (segunda e terça-feira) e começam a declinar um pouco depois. Durante o final de semana, observa-se uma diminuição acentuada dos pedidos."
      ],
      "id": "cce37552"
    },
    {
      "cell_type": "markdown",
      "metadata": {
        "id": "3dc01d2b"
      },
      "source": [
        "<h2 style=\"color: #6c5b7b\">Como os produtos são avaliados?</h2>\n",
        "\n",
        "\n",
        "<p>De que adianta vender muito, entregar rápido, se as notas dos clientes estiverem baixas? Isso queima o filme de qualquer negócio! Vamos entrar mais a fundo na questão.</p>\n",
        "\n"
      ],
      "id": "3dc01d2b"
    },
    {
      "cell_type": "code",
      "execution_count": null,
      "metadata": {
        "id": "0abb1a3b"
      },
      "outputs": [],
      "source": [
        "reviewsocres = data.groupby(\"product_category_name\")[\"review_score\"].agg([\"mean\", \"count\"]).sort_values(by=\"mean\",ascending=False)\n",
        "bestrated = reviewsocres[reviewsocres[\"count\"]>=30][:10]\n",
        "\n",
        "fig = go.Figure(go.Bar(\n",
        "            x=bestrated['mean'],\n",
        "            y=bestrated.index,\n",
        "            orientation='h'))\n",
        "\n",
        "fig.update_layout(\n",
        "    title='Produtos com as melhores avaliações',\n",
        "    xaxis_title='Avaliação média',\n",
        "    yaxis_title='Categoria do produto',\n",
        "    height=600,\n",
        "    width=800,\n",
        "    margin=dict(l=100, r=20, t=50, b=50),\n",
        ")\n",
        "\n",
        "fig.show()\n"
      ],
      "id": "0abb1a3b"
    },
    {
      "cell_type": "code",
      "execution_count": null,
      "metadata": {
        "id": "b351a1ae"
      },
      "outputs": [],
      "source": [
        "reviewsocres = data.groupby(\"product_category_name\")[\"review_score\"].agg([\"mean\", \"count\"]).sort_values(by=\"mean\",ascending=False)\n",
        "worstrated = reviewsocres[reviewsocres[\"count\"]>=30].sort_values(by='mean')[:10]\n",
        "\n",
        "fig = go.Figure(go.Bar(\n",
        "            x=worstrated['mean'],\n",
        "            y=worstrated.index,\n",
        "            orientation='h'))\n",
        "\n",
        "fig.update_layout(\n",
        "    title='Produtos com as piores avaliações',\n",
        "    xaxis_title='Avaliação média',\n",
        "    yaxis_title='Categoria do produto',\n",
        "    height=600,\n",
        "    width=800,\n",
        "    margin=dict(l=100, r=20, t=50, b=50),\n",
        ")\n",
        "\n",
        "fig.show()\n"
      ],
      "id": "b351a1ae"
    },
    {
      "cell_type": "markdown",
      "metadata": {
        "id": "c9be574d"
      },
      "source": [
        "<h2 style=\"color: #6c5b7b\">O método de pagamento afeta o status do pedido?</h2>\n",
        "\n",
        "\n",
        "<p>.</p>\n",
        "\n"
      ],
      "id": "c9be574d"
    },
    {
      "cell_type": "code",
      "execution_count": null,
      "metadata": {
        "id": "501e8874"
      },
      "outputs": [],
      "source": [
        "# Por exemplo: o pagamento em dinheiro aumenta o cancelamento de pedidos?\n",
        "cashvscancel = pd.crosstab(data[\"payment_type\"], data[\"order_status\"])\n",
        "cashvscancel = cashvscancel[[\"canceled\", \"delivered\"]]\n",
        "cashvscancel[\"% Canceled\"] = (cashvscancel[\"canceled\"] / cashvscancel[\"delivered\"] ) * 100\n",
        "cashvscancel[\"Avg Cancelation Rate\"] = (len(data[data[\"order_status\"] == \"canceled\"]) / len(data[data[\"order_status\"] == \"delivered\"])) * 100\n",
        "cashvscancel\n"
      ],
      "id": "501e8874"
    },
    {
      "cell_type": "markdown",
      "metadata": {
        "id": "b0875bb2"
      },
      "source": [
        "Podemos ver que a taxa de cancelamento é praticamente a mesma em todos os métodos de pagamento. Mas notamos uma leve desvio acima da média para o cartão de crédito."
      ],
      "id": "b0875bb2"
    },
    {
      "cell_type": "markdown",
      "metadata": {
        "id": "c6d58b73"
      },
      "source": [
        "<h2 style=\"color: #6c5b7b\">Existe alguma relação entre o tempo de entrega e as pontuações das avaliações?</h2>\n",
        "\n",
        "\n",
        "<p>.</p>\n",
        "\n"
      ],
      "id": "c6d58b73"
    },
    {
      "cell_type": "code",
      "execution_count": null,
      "metadata": {
        "id": "99450b76"
      },
      "outputs": [],
      "source": [
        "# Adicionando uma coluna delta que calcula o tempo que levou para o pedido ser entregue\n",
        "data[\"TimeToDeliveryinHours\"] = (data[\"order_delivered_customer_date\"] - data[\"order_purchase_timestamp\"])\n",
        "data[\"TimeToDeliveryinHours\"] = data[\"TimeToDeliveryinHours\"].apply(lambda x: x.total_seconds())\n",
        "data[\"TimeToDeliveryinHours\"] = round((data[\"TimeToDeliveryinHours\"] / 3600) / 24, 2)\n",
        "data.rename(columns={\"TimeToDeliveryinHours\" : \"TimeToDeliveryinDays\"}, inplace=True)"
      ],
      "id": "99450b76"
    },
    {
      "cell_type": "code",
      "execution_count": null,
      "metadata": {
        "id": "57352838"
      },
      "outputs": [],
      "source": [
        "# Principais estatísticas do tempo de entrega\n",
        "data[[\"TimeToDeliveryinDays\"]].describe()"
      ],
      "id": "57352838"
    },
    {
      "cell_type": "markdown",
      "metadata": {
        "id": "568b6572"
      },
      "source": [
        "O tempo médio de entrega é relativamente alto (12,44 dias), com mediana de (10,19 dias). Observamos um valor extremo atípico de 208 dias."
      ],
      "id": "568b6572"
    },
    {
      "cell_type": "markdown",
      "metadata": {
        "id": "73536519"
      },
      "source": [
        "O boxplot é um gráfico que mostra como um conjunto de dados está distribuído, destacando informações como a mediana (valor que divide os dados em duas partes iguais), os valores mínimo e máximo e a presença de dados incomuns. Ele é útil para identificar a forma como os dados estão agrupados e se existem pontos que se destacam do restante do conjunto."
      ],
      "id": "73536519"
    },
    {
      "cell_type": "code",
      "execution_count": null,
      "metadata": {
        "id": "652a975d"
      },
      "outputs": [],
      "source": [
        "\n",
        "# Define a ordem crescente dos valores da pontuação de avaliação\n",
        "score_order = sorted(data['review_score'].unique())\n",
        "\n",
        "# Converte a coluna \"review_score\" em uma categoria ordenada\n",
        "score = pd.Categorical(data['review_score'], categories=score_order, ordered=True)\n",
        "\n",
        "# Cria um novo dataframe ordenado pela coluna de categoria \"score\"\n",
        "data_ordered = data.assign(score=score).sort_values('score')\n",
        "\n",
        "# Cria um seletor de pontuação de avaliação em ordem crescente\n",
        "fig = px.box(data_ordered, x='score', y='TimeToDeliveryinDays', color='score',\n",
        "             title='Relação entre a pontuação da avaliação e o tempo de entrega')\n",
        "\n",
        "fig.update_xaxes(title='Pontuação da avaliação')\n",
        "fig.update_yaxes(title='Tempo de entrega (dias)')\n",
        "\n",
        "fig.show()\n"
      ],
      "id": "652a975d"
    },
    {
      "cell_type": "markdown",
      "metadata": {
        "id": "bab1f63e"
      },
      "source": [
        "Podemos ver que temos vários valores atípicos. Estes são pedidos que demoraram muito para serem entregues por algum motivo."
      ],
      "id": "bab1f63e"
    },
    {
      "cell_type": "code",
      "execution_count": null,
      "metadata": {
        "id": "a385025f"
      },
      "outputs": [],
      "source": [
        "# Define o limite superior dos valores\n",
        "q_high = data[\"TimeToDeliveryinDays\"].quantile(0.95)\n",
        "\n",
        "# Cria um novo dataframe sem os valores atípicos\n",
        "data_no_outliers = data[data[\"TimeToDeliveryinDays\"] < q_high]\n",
        "\n",
        "# Define a ordem crescente dos valores da pontuação de avaliação\n",
        "score_order = sorted(data_no_outliers['review_score'].unique())\n",
        "\n",
        "# Converte a coluna \"review_score\" em uma categoria ordenada\n",
        "score = pd.Categorical(data_no_outliers['review_score'], categories=score_order, ordered=True)\n",
        "\n",
        "# Cria um novo dataframe com a coluna de categoria \"score\"\n",
        "data_score = data_no_outliers.assign(score=score)\n",
        "\n",
        "data_score = data_score.assign(score=score).sort_values('score')\n",
        "\n",
        "# Cria um seletor de pontuação de avaliação em ordem crescente\n",
        "fig = px.box(data_score, x='score', y='TimeToDeliveryinDays', color='score',\n",
        "             title='Relação entre a pontuação da avaliação e o tempo de entrega')\n",
        "\n",
        "fig.update_xaxes(title='Pontuação da avaliação', categoryorder='array', categoryarray=score_order)\n",
        "fig.update_yaxes(title='Tempo de entrega (dias)')\n",
        "\n",
        "fig.show()\n"
      ],
      "id": "a385025f"
    },
    {
      "cell_type": "markdown",
      "metadata": {
        "id": "ae7f1681"
      },
      "source": [
        "Nossa hipótese inicial é confirmada. Podemos claramente observar uma relação direta entre o tempo de entrega e a pontuação da avaliação. À medida que o tempo de entrega diminui, a pontuação da avaliação tende a aumentar."
      ],
      "id": "ae7f1681"
    },
    {
      "cell_type": "markdown",
      "metadata": {
        "id": "f27c07f3"
      },
      "source": [
        "<h2 style=\"color: #6c5b7b\">Quais são as cidades dos vendedores com menor/maior tempo de entrega?</h2>\n",
        "\n",
        "\n",
        "<p>.</p>\n",
        "\n"
      ],
      "id": "f27c07f3"
    },
    {
      "cell_type": "code",
      "execution_count": null,
      "metadata": {
        "id": "fa0739f9"
      },
      "outputs": [],
      "source": [
        "# Vendedores com melhor tempo de entrega\n",
        "sellersdeliverytime = data.groupby(\"seller_city\")[\"TimeToDeliveryinDays\"].agg([\"min\", \"max\", \"mean\", \"std\", \"count\" ]).dropna().sort_values(\"mean\").reset_index()\n",
        "# Filtro para vendedores com 30 ou mais pedidos em seu histórico\n",
        "sellersdeliverytime = sellersdeliverytime[sellersdeliverytime[\"count\"]>=30]"
      ],
      "id": "fa0739f9"
    },
    {
      "cell_type": "code",
      "execution_count": null,
      "metadata": {
        "id": "3735a92c"
      },
      "outputs": [],
      "source": [
        "fastestdeliverysellers = sellersdeliverytime[:10]\n",
        "slowestdeliverysellers = sellersdeliverytime.sort_values(\"mean\", ascending=False)[:10]"
      ],
      "id": "3735a92c"
    },
    {
      "cell_type": "code",
      "execution_count": null,
      "metadata": {
        "id": "6b24175b"
      },
      "outputs": [],
      "source": [
        "# Vendedores com entrega mais rápida.\n",
        "fastestdeliverysellers"
      ],
      "id": "6b24175b"
    },
    {
      "cell_type": "code",
      "execution_count": null,
      "metadata": {
        "id": "a6665f82"
      },
      "outputs": [],
      "source": [
        "# Vendedores com entrega mais lenta.\n",
        "slowestdeliverysellers"
      ],
      "id": "a6665f82"
    },
    {
      "cell_type": "code",
      "execution_count": null,
      "metadata": {
        "id": "5520c513"
      },
      "outputs": [],
      "source": [
        "# Junte a pontuação média de avaliação à tabela acima.\n",
        "avg_review_score_seller = data.groupby(\"seller_city\")[\"review_score\"].mean().dropna().sort_values(ascending=False).reset_index()"
      ],
      "id": "5520c513"
    },
    {
      "cell_type": "code",
      "execution_count": null,
      "metadata": {
        "id": "4e3b85ac"
      },
      "outputs": [],
      "source": [
        "sellerPerf = sellersdeliverytime.merge(avg_review_score_seller, on=\"seller_city\")"
      ],
      "id": "4e3b85ac"
    },
    {
      "cell_type": "code",
      "execution_count": null,
      "metadata": {
        "id": "c694d260"
      },
      "outputs": [],
      "source": [
        "# Gráfico de regressão linear entre a média de tempo de entrega e a média da pontuação de avaliação\n",
        "fig = px.scatter(sellerPerf, x='mean', y='review_score', trendline='ols',\n",
        "                 title='Relação entre a média de tempo de entrega e a média da pontuação de avaliação')\n",
        "\n",
        "fig.update_xaxes(title='Média de tempo de entrega (dias)')\n",
        "fig.update_yaxes(title='Média da pontuação de avaliação')\n",
        "\n",
        "fig.show()\n"
      ],
      "id": "c694d260"
    },
    {
      "cell_type": "markdown",
      "metadata": {
        "id": "1c455fe2"
      },
      "source": [
        "<h2 style=\"color: #6c5b7b\">Estados com maior/menor tempo de entrega.</h2>\n",
        "\n",
        "\n",
        "<p>.</p>\n",
        "\n"
      ],
      "id": "1c455fe2"
    },
    {
      "cell_type": "code",
      "execution_count": null,
      "metadata": {
        "id": "ed1a926d"
      },
      "outputs": [],
      "source": [
        "# Top 10 estados com o maior tempo médio de entrega\n",
        "highestTTDstates = data.groupby(\"customer_state\")[\"TimeToDeliveryinDays\"].mean().dropna().sort_values(ascending=False).reset_index()\n",
        "highestTTDstates = highestTTDstates[:10]\n",
        "\n",
        "# Gráfico de barras com o tempo médio de entrega por estado\n",
        "fig = px.bar(highestTTDstates, x='TimeToDeliveryinDays', y='customer_state',\n",
        "             orientation='h', title='Top 10 estados com o maior tempo médio de entrega')\n",
        "\n",
        "fig.update_yaxes(title='Estado')\n",
        "fig.update_xaxes(title='Tempo médio de entrega (dias)')\n",
        "\n",
        "fig.show()\n"
      ],
      "id": "ed1a926d"
    },
    {
      "cell_type": "code",
      "execution_count": null,
      "metadata": {
        "id": "72061df7"
      },
      "outputs": [],
      "source": [
        "# Top 10 estados com o menor tempo médio de entrega\n",
        "lowestTTDstates = data.groupby(\"customer_state\")[\"TimeToDeliveryinDays\"].mean().dropna().sort_values(ascending=True).reset_index()\n",
        "lowestTTDstates = lowestTTDstates[:10]\n",
        "\n",
        "# Gráfico de barras com o tempo médio de entrega por estado\n",
        "fig = px.bar(lowestTTDstates, x='TimeToDeliveryinDays', y='customer_state',\n",
        "             orientation='h', title='Top 10 estados com o menor tempo médio de entrega')\n",
        "\n",
        "fig.update_yaxes(title='Estado')\n",
        "fig.update_xaxes(title='Tempo médio de entrega (dias)')\n",
        "\n",
        "fig.show()\n"
      ],
      "id": "72061df7"
    },
    {
      "cell_type": "markdown",
      "metadata": {
        "id": "725b53a7"
      },
      "source": [
        "\n",
        "<h2 style=\"color: #6c5b7b\">Como o tempo médio de entrega varia ao longo do tempo?</h2>\n",
        "\n",
        "\n",
        "<p>.</p>\n",
        "\n"
      ],
      "id": "725b53a7"
    },
    {
      "cell_type": "code",
      "execution_count": null,
      "metadata": {
        "id": "a107e01d"
      },
      "outputs": [],
      "source": [
        "# Mediana do tempo de entrega por ano\n",
        "deliverytimevstime = data.groupby(data[\"order_purchase_timestamp\"].dt.year)[\"TimeToDeliveryinDays\"].median().dropna()\n",
        "\n",
        "# Converte ano em categoria (e não um número)\n",
        "deliverytimevstime.index = deliverytimevstime.index.astype(str)\n",
        "\n",
        "# Gráfico de barras com a mediana do tempo de entrega por ano\n",
        "fig = px.bar(deliverytimevstime, x=deliverytimevstime.index, y='TimeToDeliveryinDays',\n",
        "             title='Mediana do tempo de entrega por ano')\n",
        "\n",
        "fig.update_xaxes(title='Ano')\n",
        "fig.update_yaxes(title='Mediana de entrega em dias')\n",
        "\n",
        "fig.show()\n"
      ],
      "id": "a107e01d"
    },
    {
      "cell_type": "markdown",
      "metadata": {
        "id": "cb6e841d"
      },
      "source": [
        "Podemos ver que a empresa fez uma melhoria significativa no tempo de entrega. Em 2016, o tempo médio de entrega excedia 17 dias, enquanto em 2017 ele caiu para cerca de 12 dias e para cerca de 9 dias em 2018."
      ],
      "id": "cb6e841d"
    },
    {
      "cell_type": "markdown",
      "metadata": {
        "id": "fd7227ce"
      },
      "source": [
        "<h2 style=\"color: #6c5b7b\">Como a pontuação média das avaliações varia ao longo do tempo?</h2>\n",
        "\n",
        "\n",
        "<p>.</p>\n",
        "\n"
      ],
      "id": "fd7227ce"
    },
    {
      "cell_type": "code",
      "execution_count": null,
      "metadata": {
        "id": "636885a0"
      },
      "outputs": [],
      "source": [
        "# Média da pontuação da avaliação por ano\n",
        "scorevstime = data.groupby(data[\"order_purchase_timestamp\"].dt.year)[\"review_score\"].mean().dropna()\n",
        "\n",
        "# Converte o índice do grupo em uma categoria\n",
        "scorevstime.index = scorevstime.index.astype(str)\n",
        "\n",
        "# Gráfico de barras com a média da pontuação da avaliação por ano\n",
        "fig = px.bar(scorevstime, x=scorevstime.index, y='review_score',\n",
        "             title='Média da pontuação da avaliação por ano')\n",
        "\n",
        "fig.update_xaxes(title='Ano')\n",
        "fig.update_yaxes(title='Pontuação média da avaliação')\n",
        "\n",
        "fig.show()\n"
      ],
      "id": "636885a0"
    },
    {
      "cell_type": "markdown",
      "metadata": {
        "id": "ae311f82"
      },
      "source": [
        "Os clientes estão dando pontuações melhores em 2017 e 2018 do que em 2016."
      ],
      "id": "ae311f82"
    },
    {
      "cell_type": "markdown",
      "metadata": {
        "id": "df281a43"
      },
      "source": [
        "<h2 style=\"color: #6c5b7b\">Quais são as categorias de produtos mais vendidas?</h2>\n",
        "\n",
        "\n",
        "<p>.</p>\n"
      ],
      "id": "df281a43"
    },
    {
      "cell_type": "code",
      "execution_count": null,
      "metadata": {
        "id": "0386ed22"
      },
      "outputs": [],
      "source": [
        "top_categ_by_revenue = data.groupby(\"product_category_name\").agg({'order_id':'nunique','payment_value':'sum'}).sort_values(\"payment_value\", ascending=False)[:10]\n",
        "top_categ_by_revenue.rename(columns={\"order_id\":\"NumOfOrders\", \"payment_value\":\"Revenues\"}, inplace=True)"
      ],
      "id": "0386ed22"
    },
    {
      "cell_type": "code",
      "execution_count": null,
      "metadata": {
        "id": "188542ed"
      },
      "outputs": [],
      "source": [
        "top_categ_by_revenue"
      ],
      "id": "188542ed"
    },
    {
      "cell_type": "markdown",
      "metadata": {
        "id": "f33d8d76"
      },
      "source": [
        "<p>Vamos fazer um mapa coroplético com o tempo de entrega em dias por cada unidade federativa?</p>\n",
        "\n",
        "\n",
        "Para fazer isso, precisamos de um arquivo que tenha as delimitações dos estados brasileiros em forma de polígonos. Podemos encontrar esse arquivo [aqui](https://github.com/fititnt/gis-dataset-brasil/tree/master/uf/geojson)\n",
        "\n",
        "<p>Para ler o arquivo, utilizaremos o <strong>Geopandas</strong>! É uma biblioteca Python que estende o poder do Pandas para permitir a manipulação de dados geoespaciais. </p>"
      ],
      "id": "f33d8d76"
    },
    {
      "cell_type": "code",
      "execution_count": null,
      "metadata": {
        "id": "0ba5e0d7",
        "scrolled": true
      },
      "outputs": [],
      "source": [
        "# Agrupar os dados por estado e obter a média do tempo de entrega\n",
        "mean_delivery_time_by_state = data.groupby('customer_state')['TimeToDeliveryinDays'].mean().reset_index()\n",
        "\n",
        "mean_delivery_time_by_state"
      ],
      "id": "0ba5e0d7"
    },
    {
      "cell_type": "code",
      "execution_count": null,
      "metadata": {
        "id": "77ec0c86"
      },
      "outputs": [],
      "source": [
        "import geopandas as gpd\n",
        "\n",
        "geojson_file = './data/raw/uf.json'\n",
        "geojson_data = gpd.read_file(geojson_file)"
      ],
      "id": "77ec0c86"
    },
    {
      "cell_type": "code",
      "execution_count": null,
      "metadata": {
        "id": "cda25823",
        "scrolled": true
      },
      "outputs": [],
      "source": [
        "geojson_data.head(10)"
      ],
      "id": "cda25823"
    },
    {
      "cell_type": "code",
      "execution_count": null,
      "metadata": {
        "id": "cfce6956",
        "scrolled": false
      },
      "outputs": [],
      "source": [
        "geojson_data['tempo_entrega'] = mean_delivery_time_by_state['TimeToDeliveryinDays']\n",
        "\n",
        "geojson_data.head()"
      ],
      "id": "cfce6956"
    },
    {
      "cell_type": "code",
      "execution_count": null,
      "metadata": {
        "id": "130b8442"
      },
      "outputs": [],
      "source": [
        "fig = px.choropleth_mapbox(geojson_data,\n",
        "                           geojson=geojson_data.geometry,\n",
        "                           locations=geojson_data.index,\n",
        "                           color='tempo_entrega',\n",
        "                           color_continuous_scale='YlOrRd',\n",
        "                           mapbox_style='open-street-map',\n",
        "                           zoom=3, center={'lat': -15.788497, 'lon': -47.879873},\n",
        "                           opacity=0.5)\n",
        "\n",
        "fig.show()\n"
      ],
      "id": "130b8442"
    },
    {
      "cell_type": "code",
      "execution_count": null,
      "metadata": {
        "id": "bab72eb1"
      },
      "outputs": [],
      "source": [],
      "id": "bab72eb1"
    }
  ],
  "metadata": {
    "colab": {
      "provenance": [],
      "include_colab_link": true
    },
    "kernelspec": {
      "display_name": "Python 3 (ipykernel)",
      "language": "python",
      "name": "python3"
    },
    "language_info": {
      "codemirror_mode": {
        "name": "ipython",
        "version": 3
      },
      "file_extension": ".py",
      "mimetype": "text/x-python",
      "name": "python",
      "nbconvert_exporter": "python",
      "pygments_lexer": "ipython3",
      "version": "3.9.0"
    },
    "papermill": {
      "default_parameters": {},
      "duration": 63.315094,
      "end_time": "2022-07-20T18:11:14.711490",
      "environment_variables": {},
      "exception": null,
      "input_path": "__notebook__.ipynb",
      "output_path": "__notebook__.ipynb",
      "parameters": {},
      "start_time": "2022-07-20T18:10:11.396396",
      "version": "2.3.4"
    }
  },
  "nbformat": 4,
  "nbformat_minor": 5
}